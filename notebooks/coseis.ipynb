{
 "cells": [
  {
   "cell_type": "code",
   "execution_count": 12,
   "metadata": {},
   "outputs": [],
   "source": [
    "import os\n",
    "import isce\n",
    "import asf_search as asf\n",
    "from iscesys.Component.ProductManager import ProductManager\n",
    "import sys\n",
    "sys.path.append('/u/trappist-r0/colespeed/work/coseis/scripts/')  # Add the directory to the system path\n",
    "import coseis\n",
    "from osgeo import gdal\n",
    "import pandas as pd\n",
    "import geopandas as gpd\n",
    "from shapely import wkt\n",
    "import importlib"
   ]
  },
  {
   "cell_type": "markdown",
   "metadata": {},
   "source": [
    "### Load in the earthquake epicenters"
   ]
  },
  {
   "cell_type": "code",
   "execution_count": 18,
   "metadata": {},
   "outputs": [
    {
     "data": {
      "text/html": [
       "<div>\n",
       "<style scoped>\n",
       "    .dataframe tbody tr th:only-of-type {\n",
       "        vertical-align: middle;\n",
       "    }\n",
       "\n",
       "    .dataframe tbody tr th {\n",
       "        vertical-align: top;\n",
       "    }\n",
       "\n",
       "    .dataframe thead th {\n",
       "        text-align: right;\n",
       "    }\n",
       "</style>\n",
       "<table border=\"1\" class=\"dataframe\">\n",
       "  <thead>\n",
       "    <tr style=\"text-align: right;\">\n",
       "      <th></th>\n",
       "      <th>place</th>\n",
       "      <th>depth</th>\n",
       "      <th>mag</th>\n",
       "      <th>geometry</th>\n",
       "      <th>date</th>\n",
       "      <th>time</th>\n",
       "    </tr>\n",
       "  </thead>\n",
       "  <tbody>\n",
       "    <tr>\n",
       "      <th>0</th>\n",
       "      <td>48 km W of Illapel, Chile</td>\n",
       "      <td>22.44</td>\n",
       "      <td>8.3</td>\n",
       "      <td>POINT Z (-71.67440 -31.57290 22.44000)</td>\n",
       "      <td>9/16/15</td>\n",
       "      <td>54:32.9</td>\n",
       "    </tr>\n",
       "    <tr>\n",
       "      <th>1</th>\n",
       "      <td>67 km NNE of Bharatpur, Nepal</td>\n",
       "      <td>8.22</td>\n",
       "      <td>7.8</td>\n",
       "      <td>POINT Z (84.73140 28.23050 8.22000)</td>\n",
       "      <td>4/25/15</td>\n",
       "      <td>11:25.9</td>\n",
       "    </tr>\n",
       "    <tr>\n",
       "      <th>2</th>\n",
       "      <td>Pazarcik earthquake, Kahramanmaras earthquake ...</td>\n",
       "      <td>10.00</td>\n",
       "      <td>7.8</td>\n",
       "      <td>POINT Z (37.01430 37.22560 10.00000)</td>\n",
       "      <td>2/6/23</td>\n",
       "      <td>17:34.3</td>\n",
       "    </tr>\n",
       "    <tr>\n",
       "      <th>3</th>\n",
       "      <td>27 km SSE of Muisne, Ecuador</td>\n",
       "      <td>20.59</td>\n",
       "      <td>7.8</td>\n",
       "      <td>POINT Z (-79.92180 0.38190 20.59000)</td>\n",
       "      <td>4/16/16</td>\n",
       "      <td>58:37.0</td>\n",
       "    </tr>\n",
       "    <tr>\n",
       "      <th>4</th>\n",
       "      <td>53 km NNE of Amberley, New Zealand</td>\n",
       "      <td>15.11</td>\n",
       "      <td>7.8</td>\n",
       "      <td>POINT Z (173.05400 -42.73730 15.11000)</td>\n",
       "      <td>11/13/16</td>\n",
       "      <td>02:56.3</td>\n",
       "    </tr>\n",
       "  </tbody>\n",
       "</table>\n",
       "</div>"
      ],
      "text/plain": [
       "                                               place  depth  mag  \\\n",
       "0                          48 km W of Illapel, Chile  22.44  8.3   \n",
       "1                      67 km NNE of Bharatpur, Nepal   8.22  7.8   \n",
       "2  Pazarcik earthquake, Kahramanmaras earthquake ...  10.00  7.8   \n",
       "3                       27 km SSE of Muisne, Ecuador  20.59  7.8   \n",
       "4                 53 km NNE of Amberley, New Zealand  15.11  7.8   \n",
       "\n",
       "                                 geometry      date     time  \n",
       "0  POINT Z (-71.67440 -31.57290 22.44000)   9/16/15  54:32.9  \n",
       "1     POINT Z (84.73140 28.23050 8.22000)   4/25/15  11:25.9  \n",
       "2    POINT Z (37.01430 37.22560 10.00000)    2/6/23  17:34.3  \n",
       "3    POINT Z (-79.92180 0.38190 20.59000)   4/16/16  58:37.0  \n",
       "4  POINT Z (173.05400 -42.73730 15.11000)  11/13/16  02:56.3  "
      ]
     },
     "execution_count": 18,
     "metadata": {},
     "output_type": "execute_result"
    }
   ],
   "source": [
    "df = pd.read_csv('/u/trappist-r0/colespeed/work/coseis/earthquakes/earthquakes_since_2014.csv')\n",
    "\n",
    "# Convert the 'geometry' column from WKT to shapely geometries (including Z coordinates)\n",
    "df['geometry'] = df['geometry'].apply(wkt.loads)\n",
    "\n",
    "# Create a GeoDataFrame from the DataFrame\n",
    "gdf = gpd.GeoDataFrame(df, geometry='geometry')\n",
    "gdf.set_crs(epsg=4326, inplace=True)\n",
    "gdf.head()"
   ]
  },
  {
   "cell_type": "markdown",
   "metadata": {},
   "source": [
    "### View earthquakes over magnitude 7.5"
   ]
  },
  {
   "cell_type": "code",
   "execution_count": 17,
   "metadata": {},
   "outputs": [
    {
     "data": {
      "text/html": [
       "<div style=\"width:100%;\"><div style=\"position:relative;width:100%;height:0;padding-bottom:60%;\"><span style=\"color:#565656\">Make this Notebook Trusted to load map: File -> Trust Notebook</span><iframe srcdoc=\"&lt;!DOCTYPE html&gt;\n",
       "&lt;html&gt;\n",
       "&lt;head&gt;\n",
       "    \n",
       "    &lt;meta http-equiv=&quot;content-type&quot; content=&quot;text/html; charset=UTF-8&quot; /&gt;\n",
       "    \n",
       "        &lt;script&gt;\n",
       "            L_NO_TOUCH = false;\n",
       "            L_DISABLE_3D = false;\n",
       "        &lt;/script&gt;\n",
       "    \n",
       "    &lt;style&gt;html, body {width: 100%;height: 100%;margin: 0;padding: 0;}&lt;/style&gt;\n",
       "    &lt;style&gt;#map {position:absolute;top:0;bottom:0;right:0;left:0;}&lt;/style&gt;\n",
       "    &lt;script src=&quot;https://cdn.jsdelivr.net/npm/leaflet@1.9.3/dist/leaflet.js&quot;&gt;&lt;/script&gt;\n",
       "    &lt;script src=&quot;https://code.jquery.com/jquery-3.7.1.min.js&quot;&gt;&lt;/script&gt;\n",
       "    &lt;script src=&quot;https://cdn.jsdelivr.net/npm/bootstrap@5.2.2/dist/js/bootstrap.bundle.min.js&quot;&gt;&lt;/script&gt;\n",
       "    &lt;script src=&quot;https://cdnjs.cloudflare.com/ajax/libs/Leaflet.awesome-markers/2.0.2/leaflet.awesome-markers.js&quot;&gt;&lt;/script&gt;\n",
       "    &lt;link rel=&quot;stylesheet&quot; href=&quot;https://cdn.jsdelivr.net/npm/leaflet@1.9.3/dist/leaflet.css&quot;/&gt;\n",
       "    &lt;link rel=&quot;stylesheet&quot; href=&quot;https://cdn.jsdelivr.net/npm/bootstrap@5.2.2/dist/css/bootstrap.min.css&quot;/&gt;\n",
       "    &lt;link rel=&quot;stylesheet&quot; href=&quot;https://netdna.bootstrapcdn.com/bootstrap/3.0.0/css/bootstrap-glyphicons.css&quot;/&gt;\n",
       "    &lt;link rel=&quot;stylesheet&quot; href=&quot;https://cdn.jsdelivr.net/npm/@fortawesome/fontawesome-free@6.2.0/css/all.min.css&quot;/&gt;\n",
       "    &lt;link rel=&quot;stylesheet&quot; href=&quot;https://cdnjs.cloudflare.com/ajax/libs/Leaflet.awesome-markers/2.0.2/leaflet.awesome-markers.css&quot;/&gt;\n",
       "    &lt;link rel=&quot;stylesheet&quot; href=&quot;https://cdn.jsdelivr.net/gh/python-visualization/folium/folium/templates/leaflet.awesome.rotate.min.css&quot;/&gt;\n",
       "    \n",
       "            &lt;meta name=&quot;viewport&quot; content=&quot;width=device-width,\n",
       "                initial-scale=1.0, maximum-scale=1.0, user-scalable=no&quot; /&gt;\n",
       "            &lt;style&gt;\n",
       "                #map_b8070489ae5db182fd905b826a3c590d {\n",
       "                    position: relative;\n",
       "                    width: 100.0%;\n",
       "                    height: 100.0%;\n",
       "                    left: 0.0%;\n",
       "                    top: 0.0%;\n",
       "                }\n",
       "                .leaflet-container { font-size: 1rem; }\n",
       "            &lt;/style&gt;\n",
       "        \n",
       "    \n",
       "                    &lt;style&gt;\n",
       "                        .foliumtooltip {\n",
       "                            \n",
       "                        }\n",
       "                       .foliumtooltip table{\n",
       "                            margin: auto;\n",
       "                        }\n",
       "                        .foliumtooltip tr{\n",
       "                            text-align: left;\n",
       "                        }\n",
       "                        .foliumtooltip th{\n",
       "                            padding: 2px; padding-right: 8px;\n",
       "                        }\n",
       "                    &lt;/style&gt;\n",
       "            \n",
       "&lt;/head&gt;\n",
       "&lt;body&gt;\n",
       "    \n",
       "    \n",
       "            &lt;div class=&quot;folium-map&quot; id=&quot;map_b8070489ae5db182fd905b826a3c590d&quot; &gt;&lt;/div&gt;\n",
       "        \n",
       "&lt;/body&gt;\n",
       "&lt;script&gt;\n",
       "    \n",
       "    \n",
       "            var map_b8070489ae5db182fd905b826a3c590d = L.map(\n",
       "                &quot;map_b8070489ae5db182fd905b826a3c590d&quot;,\n",
       "                {\n",
       "                    center: [-2.3633500000000005, 35.04895],\n",
       "                    crs: L.CRS.EPSG3857,\n",
       "                    ...{\n",
       "  &quot;zoom&quot;: 10,\n",
       "  &quot;zoomControl&quot;: true,\n",
       "  &quot;preferCanvas&quot;: false,\n",
       "}\n",
       "\n",
       "                }\n",
       "            );\n",
       "            L.control.scale().addTo(map_b8070489ae5db182fd905b826a3c590d);\n",
       "\n",
       "            \n",
       "\n",
       "        \n",
       "    \n",
       "            var tile_layer_17d61f8f22a629e49756971ce66f48d4 = L.tileLayer(\n",
       "                &quot;https://tile.openstreetmap.org/{z}/{x}/{y}.png&quot;,\n",
       "                {\n",
       "  &quot;minZoom&quot;: 0,\n",
       "  &quot;maxZoom&quot;: 19,\n",
       "  &quot;maxNativeZoom&quot;: 19,\n",
       "  &quot;noWrap&quot;: false,\n",
       "  &quot;attribution&quot;: &quot;\\u0026copy; \\u003ca href=\\&quot;https://www.openstreetmap.org/copyright\\&quot;\\u003eOpenStreetMap\\u003c/a\\u003e contributors&quot;,\n",
       "  &quot;subdomains&quot;: &quot;abc&quot;,\n",
       "  &quot;detectRetina&quot;: false,\n",
       "  &quot;tms&quot;: false,\n",
       "  &quot;opacity&quot;: 1,\n",
       "}\n",
       "\n",
       "            );\n",
       "        \n",
       "    \n",
       "            tile_layer_17d61f8f22a629e49756971ce66f48d4.addTo(map_b8070489ae5db182fd905b826a3c590d);\n",
       "        \n",
       "    \n",
       "            map_b8070489ae5db182fd905b826a3c590d.fitBounds(\n",
       "                [[-42.7373, -102.9561], [38.0106, 173.054]],\n",
       "                {}\n",
       "            );\n",
       "        \n",
       "    \n",
       "        function geo_json_d00c83ab20a349fed5ba46fff9cbd02b_styler(feature) {\n",
       "            switch(feature.id) {\n",
       "                default:\n",
       "                    return {&quot;fillOpacity&quot;: 0.5, &quot;weight&quot;: 2};\n",
       "            }\n",
       "        }\n",
       "        function geo_json_d00c83ab20a349fed5ba46fff9cbd02b_highlighter(feature) {\n",
       "            switch(feature.id) {\n",
       "                default:\n",
       "                    return {&quot;fillOpacity&quot;: 0.75};\n",
       "            }\n",
       "        }\n",
       "        function geo_json_d00c83ab20a349fed5ba46fff9cbd02b_pointToLayer(feature, latlng) {\n",
       "            var opts = {&quot;bubblingMouseEvents&quot;: true, &quot;color&quot;: &quot;#3388ff&quot;, &quot;dashArray&quot;: null, &quot;dashOffset&quot;: null, &quot;fill&quot;: true, &quot;fillColor&quot;: &quot;#3388ff&quot;, &quot;fillOpacity&quot;: 0.2, &quot;fillRule&quot;: &quot;evenodd&quot;, &quot;lineCap&quot;: &quot;round&quot;, &quot;lineJoin&quot;: &quot;round&quot;, &quot;opacity&quot;: 1.0, &quot;radius&quot;: 2, &quot;stroke&quot;: true, &quot;weight&quot;: 3};\n",
       "            \n",
       "            let style = geo_json_d00c83ab20a349fed5ba46fff9cbd02b_styler(feature)\n",
       "            Object.assign(opts, style)\n",
       "            \n",
       "            return new L.CircleMarker(latlng, opts)\n",
       "        }\n",
       "\n",
       "        function geo_json_d00c83ab20a349fed5ba46fff9cbd02b_onEachFeature(feature, layer) {\n",
       "            layer.on({\n",
       "                mouseout: function(e) {\n",
       "                    if(typeof e.target.setStyle === &quot;function&quot;){\n",
       "                            geo_json_d00c83ab20a349fed5ba46fff9cbd02b.resetStyle(e.target);\n",
       "                    }\n",
       "                },\n",
       "                mouseover: function(e) {\n",
       "                    if(typeof e.target.setStyle === &quot;function&quot;){\n",
       "                        const highlightStyle = geo_json_d00c83ab20a349fed5ba46fff9cbd02b_highlighter(e.target.feature)\n",
       "                        e.target.setStyle(highlightStyle);\n",
       "                    }\n",
       "                },\n",
       "            });\n",
       "        };\n",
       "        var geo_json_d00c83ab20a349fed5ba46fff9cbd02b = L.geoJson(null, {\n",
       "                onEachFeature: geo_json_d00c83ab20a349fed5ba46fff9cbd02b_onEachFeature,\n",
       "            \n",
       "                style: geo_json_d00c83ab20a349fed5ba46fff9cbd02b_styler,\n",
       "                pointToLayer: geo_json_d00c83ab20a349fed5ba46fff9cbd02b_pointToLayer,\n",
       "            ...{\n",
       "}\n",
       "        });\n",
       "\n",
       "        function geo_json_d00c83ab20a349fed5ba46fff9cbd02b_add (data) {\n",
       "            geo_json_d00c83ab20a349fed5ba46fff9cbd02b\n",
       "                .addData(data);\n",
       "        }\n",
       "            geo_json_d00c83ab20a349fed5ba46fff9cbd02b_add({&quot;bbox&quot;: [-102.9561, -42.7373, 173.054, 38.0106], &quot;features&quot;: [{&quot;bbox&quot;: [-71.6744, -31.5729, -71.6744, -31.5729], &quot;geometry&quot;: {&quot;coordinates&quot;: [-71.6744, -31.5729, 22.44], &quot;type&quot;: &quot;Point&quot;}, &quot;id&quot;: &quot;0&quot;, &quot;properties&quot;: {&quot;date&quot;: &quot;9/16/15&quot;, &quot;depth&quot;: 22.44, &quot;mag&quot;: 8.3, &quot;place&quot;: &quot;48 km W of Illapel, Chile&quot;, &quot;time&quot;: &quot;54:32.9&quot;}, &quot;type&quot;: &quot;Feature&quot;}, {&quot;bbox&quot;: [84.7314, 28.2305, 84.7314, 28.2305], &quot;geometry&quot;: {&quot;coordinates&quot;: [84.7314, 28.2305, 8.22], &quot;type&quot;: &quot;Point&quot;}, &quot;id&quot;: &quot;1&quot;, &quot;properties&quot;: {&quot;date&quot;: &quot;4/25/15&quot;, &quot;depth&quot;: 8.22, &quot;mag&quot;: 7.8, &quot;place&quot;: &quot;67 km NNE of Bharatpur, Nepal&quot;, &quot;time&quot;: &quot;11:25.9&quot;}, &quot;type&quot;: &quot;Feature&quot;}, {&quot;bbox&quot;: [37.0143, 37.2256, 37.0143, 37.2256], &quot;geometry&quot;: {&quot;coordinates&quot;: [37.0143, 37.2256, 10.0], &quot;type&quot;: &quot;Point&quot;}, &quot;id&quot;: &quot;2&quot;, &quot;properties&quot;: {&quot;date&quot;: &quot;2/6/23&quot;, &quot;depth&quot;: 10.0, &quot;mag&quot;: 7.8, &quot;place&quot;: &quot;Pazarcik earthquake, Kahramanmaras earthquake sequence&quot;, &quot;time&quot;: &quot;17:34.3&quot;}, &quot;type&quot;: &quot;Feature&quot;}, {&quot;bbox&quot;: [-79.9218, 0.3819, -79.9218, 0.3819], &quot;geometry&quot;: {&quot;coordinates&quot;: [-79.9218, 0.3819, 20.59], &quot;type&quot;: &quot;Point&quot;}, &quot;id&quot;: &quot;3&quot;, &quot;properties&quot;: {&quot;date&quot;: &quot;4/16/16&quot;, &quot;depth&quot;: 20.59, &quot;mag&quot;: 7.8, &quot;place&quot;: &quot;27 km SSE of Muisne, Ecuador&quot;, &quot;time&quot;: &quot;58:37.0&quot;}, &quot;type&quot;: &quot;Feature&quot;}, {&quot;bbox&quot;: [173.054, -42.7373, 173.054, -42.7373], &quot;geometry&quot;: {&quot;coordinates&quot;: [173.054, -42.7373, 15.11], &quot;type&quot;: &quot;Point&quot;}, &quot;id&quot;: &quot;4&quot;, &quot;properties&quot;: {&quot;date&quot;: &quot;11/13/16&quot;, &quot;depth&quot;: 15.11, &quot;mag&quot;: 7.8, &quot;place&quot;: &quot;53 km NNE of Amberley, New Zealand&quot;, &quot;time&quot;: &quot;02:56.3&quot;}, &quot;type&quot;: &quot;Feature&quot;}, {&quot;bbox&quot;: [-70.4931, -20.5709, -70.4931, -20.5709], &quot;geometry&quot;: {&quot;coordinates&quot;: [-70.4931, -20.5709, 22.4], &quot;type&quot;: &quot;Point&quot;}, &quot;id&quot;: &quot;5&quot;, &quot;properties&quot;: {&quot;date&quot;: &quot;4/3/14&quot;, &quot;depth&quot;: 22.4, &quot;mag&quot;: 7.7, &quot;place&quot;: &quot;53 km SW of Iquique, Chile&quot;, &quot;time&quot;: &quot;43:13.1&quot;}, &quot;type&quot;: &quot;Feature&quot;}, {&quot;bbox&quot;: [-102.9561, 18.4552, -102.9561, 18.4552], &quot;geometry&quot;: {&quot;coordinates&quot;: [-102.9561, 18.4552, 26.943], &quot;type&quot;: &quot;Point&quot;}, &quot;id&quot;: &quot;6&quot;, &quot;properties&quot;: {&quot;date&quot;: &quot;9/19/22&quot;, &quot;depth&quot;: 26.943, &quot;mag&quot;: 7.6, &quot;place&quot;: &quot;35 km SSW of Aguililla, Mexico&quot;, &quot;time&quot;: &quot;05:08.2&quot;}, &quot;type&quot;: &quot;Feature&quot;}, {&quot;bbox&quot;: [162.1481, -11.2701, 162.1481, -11.2701], &quot;geometry&quot;: {&quot;coordinates&quot;: [162.1481, -11.2701, 22.56], &quot;type&quot;: &quot;Point&quot;}, &quot;id&quot;: &quot;7&quot;, &quot;properties&quot;: {&quot;date&quot;: &quot;4/12/14&quot;, &quot;depth&quot;: 22.56, &quot;mag&quot;: 7.6, &quot;place&quot;: &quot;93 km SSE of Kirakira, Solomon Islands&quot;, &quot;time&quot;: &quot;14:39.3&quot;}, &quot;type&quot;: &quot;Feature&quot;}, {&quot;bbox&quot;: [152.5967, -4.051, 152.5967, -4.051], &quot;geometry&quot;: {&quot;coordinates&quot;: [152.5967, -4.051, 10.0], &quot;type&quot;: &quot;Point&quot;}, &quot;id&quot;: &quot;8&quot;, &quot;properties&quot;: {&quot;date&quot;: &quot;5/14/19&quot;, &quot;depth&quot;: 10.0, &quot;mag&quot;: 7.6, &quot;place&quot;: &quot;48 km NE of Kokopo, Papua New Guinea&quot;, &quot;time&quot;: &quot;58:25.9&quot;}, &quot;type&quot;: &quot;Feature&quot;}, {&quot;bbox&quot;: [119.8462, -0.2559, 119.8462, -0.2559], &quot;geometry&quot;: {&quot;coordinates&quot;: [119.8462, -0.2559, 20.0], &quot;type&quot;: &quot;Point&quot;}, &quot;id&quot;: &quot;9&quot;, &quot;properties&quot;: {&quot;date&quot;: &quot;9/28/18&quot;, &quot;depth&quot;: 20.0, &quot;mag&quot;: 7.5, &quot;place&quot;: &quot;72 km N of Palu, Indonesia&quot;, &quot;time&quot;: &quot;02:45.2&quot;}, &quot;type&quot;: &quot;Feature&quot;}, {&quot;bbox&quot;: [37.1962, 38.0106, 37.1962, 38.0106], &quot;geometry&quot;: {&quot;coordinates&quot;: [37.1962, 38.0106, 7.432], &quot;type&quot;: &quot;Point&quot;}, &quot;id&quot;: &quot;10&quot;, &quot;properties&quot;: {&quot;date&quot;: &quot;2/6/23&quot;, &quot;depth&quot;: 7.432, &quot;mag&quot;: 7.5, &quot;place&quot;: &quot;Elbistan earthquake, Kahramanmaras earthquake sequence&quot;, &quot;time&quot;: &quot;24:48.8&quot;}, &quot;type&quot;: &quot;Feature&quot;}, {&quot;bbox&quot;: [137.271, 37.4874, 137.271, 37.4874], &quot;geometry&quot;: {&quot;coordinates&quot;: [137.271, 37.4874, 10.0], &quot;type&quot;: &quot;Point&quot;}, &quot;id&quot;: &quot;11&quot;, &quot;properties&quot;: {&quot;date&quot;: &quot;1/1/24&quot;, &quot;depth&quot;: 10.0, &quot;mag&quot;: 7.5, &quot;place&quot;: &quot;2024 Noto Peninsula, Japan Earthquake&quot;, &quot;time&quot;: &quot;10:09.5&quot;}, &quot;type&quot;: &quot;Feature&quot;}, {&quot;bbox&quot;: [142.7536, -6.0699, 142.7536, -6.0699], &quot;geometry&quot;: {&quot;coordinates&quot;: [142.7536, -6.0699, 25.21], &quot;type&quot;: &quot;Point&quot;}, &quot;id&quot;: &quot;12&quot;, &quot;properties&quot;: {&quot;date&quot;: &quot;2/25/18&quot;, &quot;depth&quot;: 25.21, &quot;mag&quot;: 7.5, &quot;place&quot;: &quot;32 km SW of Tari, Papua New Guinea&quot;, &quot;time&quot;: &quot;44:44.1&quot;}, &quot;type&quot;: &quot;Feature&quot;}], &quot;type&quot;: &quot;FeatureCollection&quot;});\n",
       "\n",
       "        \n",
       "    \n",
       "    geo_json_d00c83ab20a349fed5ba46fff9cbd02b.bindTooltip(\n",
       "    function(layer){\n",
       "    let div = L.DomUtil.create(&#x27;div&#x27;);\n",
       "    \n",
       "    let handleObject = feature=&gt;typeof(feature)==&#x27;object&#x27; ? JSON.stringify(feature) : feature;\n",
       "    let fields = [&quot;place&quot;, &quot;depth&quot;, &quot;mag&quot;, &quot;date&quot;, &quot;time&quot;];\n",
       "    let aliases = [&quot;place&quot;, &quot;depth&quot;, &quot;mag&quot;, &quot;date&quot;, &quot;time&quot;];\n",
       "    let table = &#x27;&lt;table&gt;&#x27; +\n",
       "        String(\n",
       "        fields.map(\n",
       "        (v,i)=&gt;\n",
       "        `&lt;tr&gt;\n",
       "            &lt;th&gt;${aliases[i]}&lt;/th&gt;\n",
       "            \n",
       "            &lt;td&gt;${handleObject(layer.feature.properties[v])}&lt;/td&gt;\n",
       "        &lt;/tr&gt;`).join(&#x27;&#x27;))\n",
       "    +&#x27;&lt;/table&gt;&#x27;;\n",
       "    div.innerHTML=table;\n",
       "    \n",
       "    return div\n",
       "    }\n",
       "    ,{\n",
       "  &quot;sticky&quot;: true,\n",
       "  &quot;className&quot;: &quot;foliumtooltip&quot;,\n",
       "});\n",
       "                     \n",
       "    \n",
       "            geo_json_d00c83ab20a349fed5ba46fff9cbd02b.addTo(map_b8070489ae5db182fd905b826a3c590d);\n",
       "        \n",
       "&lt;/script&gt;\n",
       "&lt;/html&gt;\" style=\"position:absolute;width:100%;height:100%;left:0;top:0;border:none !important;\" allowfullscreen webkitallowfullscreen mozallowfullscreen></iframe></div></div>"
      ],
      "text/plain": [
       "<folium.folium.Map at 0x7f6bb5b726a0>"
      ]
     },
     "execution_count": 17,
     "metadata": {},
     "output_type": "execute_result"
    }
   ],
   "source": [
    "mag75 = gdf[gdf['mag'] >= 7.5]\n",
    "mag75.explore()"
   ]
  },
  {
   "cell_type": "markdown",
   "metadata": {},
   "source": [
    "### Set working directory"
   ]
  },
  {
   "cell_type": "code",
   "execution_count": 4,
   "metadata": {},
   "outputs": [
    {
     "name": "stdout",
     "output_type": "stream",
     "text": [
      "Current working directory: /u/trappist-r0/colespeed/work/coseis/earthquakes/Turkiye_20240206/D021\n"
     ]
    }
   ],
   "source": [
    "# Make base directory (if not already made)\n",
    "base_directory = '/u/trappist-r0/colespeed/work/coseis/earthquakes'\n",
    "os.makedirs(base_directory, exist_ok=True)\n",
    "\n",
    "# Make earthquake directory (if not already made)\n",
    "eq_dir= 'Turkiye_20240206'  # Update this to automatically take the USGS title from the metadata\n",
    "eq_dir_path = os.path.join(base_directory, eq_dir)\n",
    "os.makedirs(eq_dir_path, exist_ok=True)\n",
    "\n",
    "track_dir = os.path.join(eq_dir_path, 'D021') # Automate the naming of the directories\n",
    "os.makedirs(track_dir, exist_ok=True)\n",
    "os.chdir(track_dir)\n",
    "\n",
    "# Verify the current working directory\n",
    "print(\"Current working directory:\", os.getcwd())"
   ]
  },
  {
   "cell_type": "markdown",
   "metadata": {},
   "source": [
    "### Find earthquakes"
   ]
  },
  {
   "cell_type": "code",
   "execution_count": 5,
   "metadata": {},
   "outputs": [
    {
     "name": "stdout",
     "output_type": "stream",
     "text": [
      "=========================================\n",
      "Fetching historic earthquake data from 20230205 to 20230207...\n",
      "=========================================\n",
      "2024-12-21 01:41:54,438 - urllib3.connectionpool - DEBUG - Starting new HTTPS connection (1): earthquake.usgs.gov:443\n",
      "2024-12-21 01:41:54,845 - urllib3.connectionpool - DEBUG - https://earthquake.usgs.gov:443 \"GET /fdsnws/event/1/query?format=geojson&starttime=20230205&endtime=20230207&minmagnitude=6.0&maxdepth=30.0 HTTP/1.1\" 200 1234\n",
      "=========================================\n",
      "Checking for significant earthquakes...\n",
      "=========================================\n",
      "2024-12-21 01:41:54,851 - urllib3.connectionpool - DEBUG - Starting new HTTPS connection (1): raw.githubusercontent.com:443\n",
      "2024-12-21 01:41:54,865 - urllib3.connectionpool - DEBUG - https://raw.githubusercontent.com:443 \"GET /OSGeo/PROJ/refs/heads/master/docs/plot/data/coastline.geojson HTTP/1.1\" 200 92593\n",
      "=========================================\n",
      "Found 1 significant earthquakes.\n",
      "=========================================\n",
      "[{'mag': 7.8, 'place': 'Pazarcik earthquake, Kahramanmaras earthquake sequence', 'time': 1675646254342, 'updated': 1727854286861, 'tz': None, 'url': 'https://earthquake.usgs.gov/earthquakes/eventpage/us6000jllz', 'detail': 'https://earthquake.usgs.gov/fdsnws/event/1/query?eventid=us6000jllz&format=geojson', 'felt': 2052, 'cdi': 9.1, 'mmi': 9.43, 'alert': 'red', 'status': 'reviewed', 'tsunami': 0, 'sig': 2910, 'net': 'us', 'code': '6000jllz', 'ids': ',us6000jllz,usauto6000jllz,at00rpmwxe,pt23037000,', 'sources': ',us,usauto,at,pt,', 'types': ',dyfi,earthquake-name,finite-fault,general-link,general-text,ground-failure,groundmotion-packet,impact-text,internal-moment-tensor,internal-origin,losspager,moment-tensor,origin,phase-data,shakemap,', 'nst': 266, 'dmin': 0.165, 'rms': 0.66, 'gap': 17, 'magType': 'mww', 'type': 'earthquake', 'title': 'M 7.8 - Pazarcik earthquake, Kahramanmaras earthquake sequence', 'coordinates': [37.0143, 37.2256, 10]}]\n",
      "=========================================\n",
      "=========================================\n",
      "Creating Area of Interest (AOI) polygon...\n",
      "=========================================\n",
      "Area of Interest (AOI) created: POLYGON ((36.5143 36.7256, 37.5143 36.7256, 37.5143 37.7256, 36.5143 37.7256, 36.5143 36.7256))\n",
      "=========================================\n",
      "Performing ASF DAAC API query...\n",
      "Query Parameters:\n",
      "{\n",
      "    \"intersectsWith\": \"POLYGON ((36.5143 36.7256, 37.5143 36.7256, 37.5143 37.7256, 36.5143 37.7256, 36.5143 36.7256))\",\n",
      "    \"dataset\": \"SENTINEL-1\",\n",
      "    \"processingLevel\": \"SLC\",\n",
      "    \"start\": \"2023-01-25T00:00:00Z\",\n",
      "    \"end\": \"2023-02-18T11:59:59Z\",\n",
      "    \"output\": \"geojson\"\n",
      "}\n",
      "2024-12-21 01:41:55,154 - urllib3.connectionpool - DEBUG - Starting new HTTPS connection (1): api.daac.asf.alaska.edu:443\n",
      "2024-12-21 01:41:57,266 - urllib3.connectionpool - DEBUG - https://api.daac.asf.alaska.edu:443 \"GET /services/search/param?intersectsWith=POLYGON+%28%2836.5143+36.7256%2C+37.5143+36.7256%2C+37.5143+37.7256%2C+36.5143+37.7256%2C+36.5143+36.7256%29%29&dataset=SENTINEL-1&processingLevel=SLC&start=2023-01-25T00%3A00%3A00Z&end=2023-02-18T11%3A59%3A59Z&output=geojson HTTP/1.1\" 200 None\n",
      "=========================================\n",
      "Found 13 SLCs intersecting the AOI.\n",
      "SLC ID: S1A_IW_SLC__1SDV_20230216T152542_20230216T152609_047263_05AC04_9A32-SLC\n",
      "SLC ID: S1A_IW_SLC__1SDV_20230215T034246_20230215T034314_047241_05AB34_0847-SLC\n",
      "SLC ID: S1A_IW_SLC__1SDV_20230210T033451_20230210T033518_047168_05A8CD_E5B0-SLC\n",
      "SLC ID: S1A_IW_SLC__1SDV_20230210T033426_20230210T033454_047168_05A8CD_FAA6-SLC\n",
      "SLC ID: S1A_IW_SLC__1SDV_20230209T153423_20230209T153450_047161_05A88A_9FEC-SLC\n",
      "SLC ID: S1A_IW_SLC__1SDV_20230209T153357_20230209T153425_047161_05A88A_BB1A-SLC\n",
      "SLC ID: S1A_IW_SLC__1SDV_20230204T152607_20230204T152635_047088_05A621_4129-SLC\n",
      "SLC ID: S1A_IW_SLC__1SDV_20230204T152542_20230204T152609_047088_05A621_A745-SLC\n",
      "SLC ID: S1A_IW_SLC__1SDV_20230203T034246_20230203T034314_047066_05A559_0568-SLC\n",
      "SLC ID: S1A_IW_SLC__1SDV_20230129T033452_20230129T033519_046993_05A2FE_BE0B-SLC\n",
      "SLC ID: S1A_IW_SLC__1SDV_20230129T033427_20230129T033455_046993_05A2FE_6FF2-SLC\n",
      "SLC ID: S1A_IW_SLC__1SDV_20230128T153424_20230128T153451_046986_05A2B6_00C8-SLC\n",
      "SLC ID: S1A_IW_SLC__1SDV_20230128T153358_20230128T153426_046986_05A2B6_1629-SLC\n",
      "=========================================\n",
      "=========================================\n",
      "Finding SLC pairs for InSAR processing...\n",
      "=========================================\n",
      "('ASCENDING', '116') with total overlap of the AOI of 0.7947816880322625\n",
      "('DESCENDING', '94') with total overlap of the AOI of 0.09938564114316938\n",
      "('DESCENDING', '21') with total overlap of the AOI of 1.0\n",
      "('ASCENDING', '14') with total overlap of the AOI of 0.999468261509915\n",
      "=========================================\n",
      "Finding optimal ASCENDING and DESCENDING tracks\n",
      "=========================================\n",
      "Best ASCENDING Group: ('ASCENDING', '14') with total overlap area 0.999468261509915\n",
      "Best DESCENDING Group: ('DESCENDING', '21') with total overlap area 1.0\n",
      "=========================================\n",
      "Make REFERENCE and SECONDARY LISTS...\n",
      "=========================================\n",
      "=========================================\n",
      "REFERENCE and SECONDARY SLCs:\n",
      "=========================================\n",
      "Flight Direction: ASCENDING, Path Number: 14\n",
      "REFERENCE SLCs: {datetime.date(2023, 2, 9): ['S1A_IW_SLC__1SDV_20230209T153357_20230209T153425_047161_05A88A_BB1A', 'S1A_IW_SLC__1SDV_20230209T153423_20230209T153450_047161_05A88A_9FEC']}\n",
      "SECONDARY SLCs: {datetime.date(2023, 1, 28): ['S1A_IW_SLC__1SDV_20230128T153358_20230128T153426_046986_05A2B6_1629', 'S1A_IW_SLC__1SDV_20230128T153424_20230128T153451_046986_05A2B6_00C8']}\n",
      "Flight Direction: DESCENDING, Path Number: 21\n",
      "REFERENCE SLCs: {datetime.date(2023, 2, 10): ['S1A_IW_SLC__1SDV_20230210T033426_20230210T033454_047168_05A8CD_FAA6', 'S1A_IW_SLC__1SDV_20230210T033451_20230210T033518_047168_05A8CD_E5B0']}\n",
      "SECONDARY SLCs: {datetime.date(2023, 1, 29): ['S1A_IW_SLC__1SDV_20230129T033427_20230129T033455_046993_05A2FE_6FF2', 'S1A_IW_SLC__1SDV_20230129T033452_20230129T033519_046993_05A2FE_BE0B']}\n"
     ]
    }
   ],
   "source": [
    "importlib.reload(coseis)\n",
    "ascending_json, descending_json = coseis.main_historic('20230205', '20230207')"
   ]
  },
  {
   "cell_type": "markdown",
   "metadata": {},
   "source": [
    "### Set working directory"
   ]
  },
  {
   "cell_type": "code",
   "execution_count": 6,
   "metadata": {},
   "outputs": [],
   "source": [
    "# # Make base directory (if not already made)\n",
    "# base_directory = '/u/trappist-r0/colespeed/work/coseis/earthquakes'\n",
    "# os.makedirs(base_directory, exist_ok=True)\n",
    "\n",
    "# # Make earthquake directory (if not already made)\n",
    "# eq_dir= 'Turkiye_20240206'  # Update this to automatically take the USGS title from the metadata\n",
    "# eq_dir_path = os.path.join(base_directory, eq_dir)\n",
    "# os.makedirs(eq_dir_path, exist_ok=True)\n",
    "\n",
    "# # Verify the current working directory\n",
    "# print(\"Current working directory:\", os.getcwd())"
   ]
  },
  {
   "cell_type": "markdown",
   "metadata": {},
   "source": [
    "### Make directories for ASCENDING and DESCENDING tracks"
   ]
  },
  {
   "cell_type": "code",
   "execution_count": 7,
   "metadata": {},
   "outputs": [],
   "source": [
    "# track_dir = os.path.join(eq_dir_path, 'A014') # Automate the naming of the directories\n",
    "# os.makedirs(track_dir, exist_ok=True)\n",
    "# os.chdir(track_dir)\n",
    "\n",
    "# # Verify the current working directory\n",
    "# print(\"Current working directory:\", os.getcwd())"
   ]
  },
  {
   "cell_type": "code",
   "execution_count": 8,
   "metadata": {},
   "outputs": [
    {
     "name": "stdout",
     "output_type": "stream",
     "text": [
      "Ascending JSON: {'reference-scenes': ['S1A_IW_SLC__1SDV_20230209T153357_20230209T153425_047161_05A88A_BB1A', 'S1A_IW_SLC__1SDV_20230209T153423_20230209T153450_047161_05A88A_9FEC'], 'secondary-scenes': ['S1A_IW_SLC__1SDV_20230128T153358_20230128T153426_046986_05A2B6_1629', 'S1A_IW_SLC__1SDV_20230128T153424_20230128T153451_046986_05A2B6_00C8'], 'frame-id': -1, 'estimate-ionosphere-delay': True, 'compute-solid-earth-tide': True, 'output-resolution': 30, 'unfiltered-coherence': True, 'goldstein-filter-power': 0.5, 'dense-offsets': True, 'wrapped-phase-layer': True, 'esd-coherence-threshold': -1}\n",
      "Descending JSON: {'reference-scenes': ['S1A_IW_SLC__1SDV_20230210T033426_20230210T033454_047168_05A8CD_FAA6', 'S1A_IW_SLC__1SDV_20230210T033451_20230210T033518_047168_05A8CD_E5B0'], 'secondary-scenes': ['S1A_IW_SLC__1SDV_20230129T033427_20230129T033455_046993_05A2FE_6FF2', 'S1A_IW_SLC__1SDV_20230129T033452_20230129T033519_046993_05A2FE_BE0B'], 'frame-id': -1, 'estimate-ionosphere-delay': True, 'compute-solid-earth-tide': True, 'output-resolution': 30, 'unfiltered-coherence': True, 'goldstein-filter-power': 0.5, 'dense-offsets': True, 'wrapped-phase-layer': True, 'esd-coherence-threshold': -1}\n"
     ]
    }
   ],
   "source": [
    "print(f'Ascending JSON: {ascending_json}')\n",
    "print(f'Descending JSON: {descending_json}')"
   ]
  },
  {
   "cell_type": "markdown",
   "metadata": {},
   "source": [
    "### Run DockerizedTopsApp"
   ]
  },
  {
   "cell_type": "code",
   "execution_count": null,
   "metadata": {},
   "outputs": [
    {
     "name": "stdout",
     "output_type": "stream",
     "text": [
      "nohup: ignoring input and appending output to ‘nohup.out’\n"
     ]
    }
   ],
   "source": [
    "import time\n",
    "start_time = time.time()\n",
    "!XLA_PYTHON_CLIENT_MEM_FRACTION=.20 taskset -c 62-94 nohup isce2_topsapp --reference-scenes S1A_IW_SLC__1SDV_20230210T033426_20230210T033454_047168_05A8CD_FAA6 S1A_IW_SLC__1SDV_20230210T033451_20230210T033518_047168_05A8CD_E5B0 --secondary-scenes S1A_IW_SLC__1SDV_20230129T033427_20230129T033455_046993_05A2FE_6FF2 S1A_IW_SLC__1SDV_20230129T033452_20230129T033519_046993_05A2FE_BE0B --frame-id -1 --estimate-ionosphere-delay True --esd-coherence-threshold -1 --compute-solid-earth-tide True --goldstein-filter-power 0.5 --output-resolution 30 --unfiltered-coherence True --dense-offsets True \n",
    "\n",
    "end_time = time.time()\n",
    "elapsed_time = end_time - start_time\n",
    "\n",
    "# Print the result\n",
    "print(f\"Script completed in {elapsed_time:.2f} seconds\")  "
   ]
  },
  {
   "cell_type": "markdown",
   "metadata": {},
   "source": [
    "### Produce Ascending track coseismic displacement product"
   ]
  },
  {
   "cell_type": "code",
   "execution_count": 73,
   "metadata": {},
   "outputs": [
    {
     "name": "stdout",
     "output_type": "stream",
     "text": [
      "nohup: ignoring input and appending output to ‘nohup.out’\n"
     ]
    },
    {
     "name": "stdout",
     "output_type": "stream",
     "text": [
      "Script completed in 3.93 seconds\n"
     ]
    }
   ],
   "source": [
    "import time\n",
    "start_time = time.time()\n",
    "!XLA_PYTHON_CLIENT_MEM_FRACTION=.20 taskset -c 62-94 nohup isce2_topsapp ++json 'ascending_group.json'\n",
    "end_time = time.time()\n",
    "elapsed_time = end_time - start_time\n",
    "\n",
    "# Print the result\n",
    "print(f\"Script completed in {elapsed_time:.2f} seconds\") "
   ]
  },
  {
   "cell_type": "markdown",
   "metadata": {},
   "source": [
    "### Download orbit files"
   ]
  },
  {
   "cell_type": "code",
   "execution_count": 8,
   "metadata": {},
   "outputs": [
    {
     "name": "stdout",
     "output_type": "stream",
     "text": [
      "[12/03 21:23:30] [INFO download.py] Skipping /u/trappist-r0/colespeed/work/coseis/earthquakes/ridgecrest/data/slcs/S1B_IW_SLC__1SDV_20190710T014959_20190710T015026_017065_0201B8_069B, already have EOF file\n",
      "[12/03 21:23:30] [INFO download.py] Skipping /u/trappist-r0/colespeed/work/coseis/earthquakes/ridgecrest/data/slcs/S1A_IW_SLC__1SDV_20190704T015023_20190704T015051_027961_03283A_D6EA, already have EOF file\n",
      "[12/03 21:23:30] [INFO download.py] Skipping /u/trappist-r0/colespeed/work/coseis/earthquakes/ridgecrest/data/slcs/S1A_IW_SLC__1SDV_20190704T015049_20190704T015116_027961_03283A_191E, already have EOF file\n",
      "[12/03 21:23:30] [INFO download.py] No Sentinel products found in directory /u/trappist-r0/colespeed/work/coseis/earthquakes/ridgecrest/data/slcs, exiting\n"
     ]
    }
   ],
   "source": [
    "!eof --search-path {slc_dir} --save-dir {orbits_dir} --force-asf"
   ]
  },
  {
   "cell_type": "markdown",
   "metadata": {},
   "source": [
    "### Create XML files\n",
    "`TODO: Write function to construct the XML files specific to reference/secondary SLCs`\n",
    "\n",
    "For now, I have just loaded them in manually."
   ]
  },
  {
   "cell_type": "markdown",
   "metadata": {},
   "source": [
    "### topsApp workflow"
   ]
  },
  {
   "cell_type": "code",
   "execution_count": null,
   "metadata": {},
   "outputs": [],
   "source": [
    "# %%bash\n",
    "# nohup topsApp.py > output.log 2>&1 &"
   ]
  },
  {
   "cell_type": "code",
   "execution_count": 82,
   "metadata": {},
   "outputs": [
    {
     "name": "stdout",
     "output_type": "stream",
     "text": [
      "nohup: ignoring input and appending output to ‘nohup.out’\n"
     ]
    }
   ],
   "source": [
    "!nohup isce2_topsapp  --reference-scenes S1B_IW_SLC__1SDV_20190710T014959_20190710T015026_017065_0201B8_069B --secondary-scenes S1A_IW_SLC__1SDV_20190704T015023_20190704T015051_027961_03283A_D6EA S1A_IW_SLC__1SDV_20190704T015049_20190704T015116_027961_03283A_191E --output-resolution 30 \\\n",
    "--esd-coherence-threshold -1 \\\n",
    "--estimate-ionosphere-delay True \\\n",
    "--goldstein-filter-power 0.5 \\\n",
    "--unfiltered-coherence True \\\n",
    "--dense-offsets True \\\n",
    "--frame-id -1 "
   ]
  },
  {
   "cell_type": "markdown",
   "metadata": {},
   "source": [
    "### Pixel masking"
   ]
  },
  {
   "cell_type": "code",
   "execution_count": null,
   "metadata": {},
   "outputs": [
    {
     "name": "stdout",
     "output_type": "stream",
     "text": [
      "None\n"
     ]
    },
    {
     "name": "stderr",
     "output_type": "stream",
     "text": [
      "ERROR 4: merged/filt_topophase_msk.unw.geo: No such file or directory\n"
     ]
    }
   ],
   "source": [
    "f1 = 'merged/filt_topophase.unw.conncomp.geo'\n",
    "f2 = 'merged/filt_topophase_msk.unw.geo'\n",
    "outfile = 'merged/filt_topophase_mskAlias.unw.geo'\n",
    "#mask_int_alias_2.mask_unw(f1, f2, outfile)"
   ]
  },
  {
   "cell_type": "markdown",
   "metadata": {},
   "source": [
    "### Create wrapped tif"
   ]
  },
  {
   "cell_type": "code",
   "execution_count": null,
   "metadata": {},
   "outputs": [],
   "source": [
    "!python /u/trappist-r0/colespeed/work/coseis/scripts/create_wrapped.py /u/trappist-r0/colespeed/work/coseis/earthquakes/ridgecrest/insar/merged/filt_topophase.unw.geo /u/trappist-r0/colespeed/work/coseis/earthquakes/ridgecrest/insar/merged/filt_topophase.tif"
   ]
  },
  {
   "cell_type": "markdown",
   "metadata": {},
   "source": [
    "### Extract pixel dimensions and compute dense offsets in meters"
   ]
  },
  {
   "cell_type": "code",
   "execution_count": 63,
   "metadata": {},
   "outputs": [],
   "source": [
    "def load_product(xml_name):\n",
    "    \"\"\"Load the product using Product Manager.\"\"\"\n",
    "    pm = ProductManager()\n",
    "    pm.configure()\n",
    "    return pm.loadProduct(xml_name)\n",
    "\n",
    "reference_dir = os.path.join(insar_dir, 'reference')\n",
    "xml_file = os.path.join(reference_dir, 'IW1.xml')\n",
    "obj = load_product(xml_file)\n",
    "burst = obj.bursts[0]\n",
    "burstEnd = obj.bursts[-1]"
   ]
  },
  {
   "cell_type": "code",
   "execution_count": 64,
   "metadata": {},
   "outputs": [],
   "source": [
    "import numpy as np\n",
    "\n",
    "orbit = burst.orbit\n",
    "peg = orbit.interpolateOrbit(burst.sensingMid, method='hermite')\n",
    "\n",
    "# Sentinel-1 TOPS pixel spacing\n",
    "Vs = np.linalg.norm(peg.getVelocity())   #satellite speed"
   ]
  },
  {
   "cell_type": "code",
   "execution_count": null,
   "metadata": {},
   "outputs": [
    {
     "ename": "NameError",
     "evalue": "name 'Planet' is not defined",
     "output_type": "error",
     "traceback": [
      "\u001b[0;31m---------------------------------------------------------------------------\u001b[0m",
      "\u001b[0;31mNameError\u001b[0m                                 Traceback (most recent call last)",
      "Cell \u001b[0;32mIn[70], line 2\u001b[0m\n\u001b[1;32m      1\u001b[0m azimuthPixelSize \u001b[38;5;241m=\u001b[39m Vs \u001b[38;5;241m*\u001b[39m burst\u001b[38;5;241m.\u001b[39mazimuthTimeInterval\n\u001b[0;32m----> 2\u001b[0m earthRadius \u001b[38;5;241m=\u001b[39m \u001b[43mPlanet\u001b[49m(pname\u001b[38;5;241m=\u001b[39m\u001b[38;5;124m'\u001b[39m\u001b[38;5;124mEarth\u001b[39m\u001b[38;5;124m'\u001b[39m)\u001b[38;5;241m.\u001b[39mellipsoid\u001b[38;5;241m.\u001b[39mpegRadCur\n",
      "\u001b[0;31mNameError\u001b[0m: name 'Planet' is not defined"
     ]
    }
   ],
   "source": [
    "from isceobj.Planet.Planet import Planet\n",
    "\n",
    "azimuthPixelSize = Vs * burst.azimuthTimeInterval\n",
    "earthRadius = Planet(pname='Earth').ellipsoid.pegRadCur"
   ]
  },
  {
   "cell_type": "code",
   "execution_count": 66,
   "metadata": {},
   "outputs": [
    {
     "name": "stdout",
     "output_type": "stream",
     "text": [
      "2019-07-04 01:50:49.718705\n"
     ]
    }
   ],
   "source": [
    "sensingMid = obj.sensingMid\n",
    "print(sensingMid)"
   ]
  },
  {
   "cell_type": "code",
   "execution_count": 67,
   "metadata": {},
   "outputs": [
    {
     "data": {
      "text/plain": [
       "63.748288"
      ]
     },
     "execution_count": 67,
     "metadata": {},
     "output_type": "execute_result"
    }
   ],
   "source": [
    "burst.terrainHeight"
   ]
  },
  {
   "cell_type": "code",
   "execution_count": 9,
   "metadata": {},
   "outputs": [
    {
     "data": {
      "text/plain": [
       "(Parameter('numberOfLines', public_name='number of lines', default=None, type=int, units=None, mandatory=True, private=False),\n",
       " Parameter('numberOfSamples', public_name='number of samples', default=None, type=int, units=None, mandatory=True, private=False),\n",
       " Parameter('startingRange', public_name='starting range', default=None, type=float, units=None, mandatory=True, private=False),\n",
       " Parameter('sensingStart', public_name='sensing start', default=None, type=datetimeType, units=None, mandatory=True, private=False),\n",
       " Parameter('sensingStop', public_name='sensing stop', default=None, type=datetimeType, units=None, mandatory=True, private=False),\n",
       " Parameter('burstStartUTC', public_name='burst start utc', default=None, type=datetimeType, units=None, mandatory=True, private=False),\n",
       " Parameter('burstStopUTC', public_name='burst stop utc', default=None, type=datetimeType, units=None, mandatory=True, private=False),\n",
       " Parameter('trackNumber', public_name='track number', default=None, type=int, units=None, mandatory=True, private=False),\n",
       " Parameter('frameNumber', public_name='frame number', default=None, type=int, units=None, mandatory=True, private=False),\n",
       " Parameter('orbitNumber', public_name='orbit number', default=None, type=int, units=None, mandatory=True, private=False),\n",
       " Parameter('swathNumber', public_name='swath number', default=None, type=int, units=None, mandatory=True, private=False),\n",
       " Parameter('burstNumber', public_name='burst number', default=None, type=int, units=None, mandatory=True, private=False),\n",
       " Parameter('rangePixelSize', public_name='range pixel size', default=None, type=float, units=None, mandatory=True, private=False),\n",
       " Parameter('azimuthTimeInterval', public_name='azimuth time interval', default=None, type=float, units=None, mandatory=True, private=False),\n",
       " Parameter('passDirection', public_name='pass direction', default=None, type=str, units=None, mandatory=True, private=False),\n",
       " Parameter('azimuthSteeringRate', public_name='azimuth steering rate', default=None, type=float, units=None, mandatory=True, private=False),\n",
       " Parameter('radarWavelength', public_name='radarWavelength', default=None, type=float, units=None, mandatory=True, private=False),\n",
       " Parameter('prf', public_name='pulse repetition frequency', default=None, type=float, units=None, mandatory=True, private=False),\n",
       " Parameter('polarization', public_name='polarization', default=None, type=str, units=None, mandatory=True, private=False),\n",
       " Parameter('terrainHeight', public_name='terrain height', default=None, type=float, units=None, mandatory=True, private=False),\n",
       " Parameter('firstValidLine', public_name='first valid line', default=None, type=int, units=None, mandatory=True, private=False),\n",
       " Parameter('numValidLines', public_name='number of valid lines', default=None, type=int, units=None, mandatory=True, private=False),\n",
       " Parameter('firstValidSample', public_name='first valid sample', default=None, type=int, units=None, mandatory=True, private=False),\n",
       " Parameter('numValidSamples', public_name='number of valid samples', default=None, type=int, units=None, mandatory=True, private=False),\n",
       " Parameter('rangeWindowType', public_name='range window type', default=None, type=str, units=None, mandatory=True, private=False),\n",
       " Parameter('rangeWindowCoefficient', public_name='range window coefficient', default=None, type=float, units=None, mandatory=True, private=False),\n",
       " Parameter('rangeProcessingBandwidth', public_name='range processing bandwidth', default=None, type=float, units=None, mandatory=True, private=False),\n",
       " Parameter('azimuthWindowType', public_name='azimuth window type', default=None, type=str, units=None, mandatory=True, private=False),\n",
       " Parameter('azimuthWindowCoefficient', public_name='azimuth window coefficient', default=None, type=float, units=None, mandatory=True, private=False),\n",
       " Parameter('azimuthProcessingBandwidth', public_name='azimuth processing bandwidth', default=None, type=float, units=None, mandatory=True, private=False))"
      ]
     },
     "execution_count": 9,
     "metadata": {},
     "output_type": "execute_result"
    }
   ],
   "source": [
    "burst.parameter_list"
   ]
  },
  {
   "cell_type": "code",
   "execution_count": 19,
   "metadata": {},
   "outputs": [],
   "source": [
    "# Re, h_sat = float(meta['EARTH_RADIUS']), float(meta['HEIGHT'])\n",
    "# pixel_size = float(meta['AZIMUTH_PIXEL_SIZE']) * Re / (Re + h_sat)\n",
    "# print('Ground azimuth pixel size: {:.2f} m'.format(pixel_size))"
   ]
  },
  {
   "cell_type": "code",
   "execution_count": 28,
   "metadata": {},
   "outputs": [
    {
     "name": "stdout",
     "output_type": "stream",
     "text": [
      "Processing complete. Files saved:\n",
      " - filt_dense_offsets_range_m.tif\n",
      " - filt_dense_offsets_azimuth_m.tif\n"
     ]
    }
   ],
   "source": [
    "# Input raster file\n",
    "dense_offsets = 'merged/filt_dense_offsets.bil.geo'\n",
    "\n",
    "# Output raster files\n",
    "output_range_m = \"filt_dense_offsets_range_m.tif\"\n",
    "output_azimuth_m = \"filt_dense_offsets_azimuth_m.tif\"\n",
    "\n",
    "rangePixelSize = burst.rangePixelSize \n",
    "azimuthPixelSize = 14.02 # placeholder value for now\n",
    "\n",
    "# Open the input raster\n",
    "dataset = gdal.Open(dense_offsets)\n",
    "if not dataset:\n",
    "    raise RuntimeError(f\"Failed to open file: {dense_offsets}\")\n",
    "\n",
    "# Read the first band and process it\n",
    "range = dataset.GetRasterBand(2).ReadAsArray()\n",
    "range_m = range * rangePixelSize\n",
    "\n",
    "# Create output raster for Band 1\n",
    "driver = gdal.GetDriverByName(\"GTiff\")\n",
    "out_ds_band1 = driver.Create(\n",
    "    output_range_m, \n",
    "    dataset.RasterXSize, \n",
    "    dataset.RasterYSize, \n",
    "    1,  # Number of bands\n",
    "    gdal.GDT_Float32\n",
    ")\n",
    "out_ds_band1.SetGeoTransform(dataset.GetGeoTransform())\n",
    "out_ds_band1.SetProjection(dataset.GetProjection())\n",
    "out_ds_band1.GetRasterBand(1).WriteArray(range_m)\n",
    "out_ds_band1 = None  # Close the file\n",
    "\n",
    "# Read the second band and process it\n",
    "azimuth = dataset.GetRasterBand(1).ReadAsArray()\n",
    "azimuth_m = azimuth * azimuthPixelSize\n",
    "\n",
    "# Create output raster for Band 2\n",
    "driver = gdal.GetDriverByName(\"GTiff\")\n",
    "out_ds_band2 = driver.Create(\n",
    "    output_azimuth_m, \n",
    "    dataset.RasterXSize, \n",
    "    dataset.RasterYSize, \n",
    "    1,  # Number of bands\n",
    "    gdal.GDT_Float32\n",
    ")\n",
    "out_ds_band2.SetGeoTransform(dataset.GetGeoTransform())\n",
    "out_ds_band2.SetProjection(dataset.GetProjection())\n",
    "out_ds_band2.GetRasterBand(1).WriteArray(azimuth_m)\n",
    "out_ds_band2 = None  # Close the file\n",
    "\n",
    "# Clean up\n",
    "dataset = None\n",
    "\n",
    "print(\"Processing complete. Files saved:\")\n",
    "print(f\" - {output_range_m}\")\n",
    "print(f\" - {output_azimuth_m}\")"
   ]
  },
  {
   "cell_type": "code",
   "execution_count": 11,
   "metadata": {},
   "outputs": [
    {
     "name": "stdout",
     "output_type": "stream",
     "text": [
      "Driver: ISCE/ISCE raster\n",
      "Files: /u/trappist-r0/colespeed/work/coseis/earthquakes/ridgecrest/insar/merged/filt_dense_offsets.bil.geo\n",
      "       /u/trappist-r0/colespeed/work/coseis/earthquakes/ridgecrest/insar/merged/filt_dense_offsets.bil.geo.xml\n",
      "Size is 11579, 6748\n",
      "Coordinate System is:\n",
      "GEOGCRS[\"WGS 84\",\n",
      "    DATUM[\"World Geodetic System 1984\",\n",
      "        ELLIPSOID[\"WGS 84\",6378137,298.257223563,\n",
      "            LENGTHUNIT[\"metre\",1]]],\n",
      "    PRIMEM[\"Greenwich\",0,\n",
      "        ANGLEUNIT[\"degree\",0.0174532925199433]],\n",
      "    CS[ellipsoidal,2],\n",
      "        AXIS[\"geodetic latitude (Lat)\",north,\n",
      "            ORDER[1],\n",
      "            ANGLEUNIT[\"degree\",0.0174532925199433]],\n",
      "        AXIS[\"geodetic longitude (Lon)\",east,\n",
      "            ORDER[2],\n",
      "            ANGLEUNIT[\"degree\",0.0174532925199433]],\n",
      "    ID[\"EPSG\",4326]]\n",
      "Data axis to CRS axis mapping: 2,1\n",
      "Origin = (-119.457222222222228,36.880833333333335)\n",
      "Pixel Size = (0.000277777777778,-0.000277777777778)\n",
      "Corner Coordinates:\n",
      "Upper Left  (-119.4572222,  36.8808333) (119d27'26.00\"W, 36d52'51.00\"N)\n",
      "Lower Left  (-119.4572222,  35.0063889) (119d27'26.00\"W, 35d 0'23.00\"N)\n",
      "Upper Right (-116.2408333,  36.8808333) (116d14'27.00\"W, 36d52'51.00\"N)\n",
      "Lower Right (-116.2408333,  35.0063889) (116d14'27.00\"W, 35d 0'23.00\"N)\n",
      "Center      (-117.8490278,  35.9436111) (117d50'56.50\"W, 35d56'37.00\"N)\n",
      "Band 1 Block=11579x1 Type=Float32, ColorInterp=Undefined\n",
      "Band 2 Block=11579x1 Type=Float32, ColorInterp=Undefined\n"
     ]
    }
   ],
   "source": [
    "!gdalinfo /u/trappist-r0/colespeed/work/coseis/earthquakes/ridgecrest/insar/merged/filt_dense_offsets.bil.geo"
   ]
  },
  {
   "cell_type": "code",
   "execution_count": null,
   "metadata": {},
   "outputs": [],
   "source": []
  }
 ],
 "metadata": {
  "kernelspec": {
   "display_name": "topsapp_env",
   "language": "python",
   "name": "python3"
  },
  "language_info": {
   "codemirror_mode": {
    "name": "ipython",
    "version": 3
   },
   "file_extension": ".py",
   "mimetype": "text/x-python",
   "name": "python",
   "nbconvert_exporter": "python",
   "pygments_lexer": "ipython3",
   "version": "3.9.18"
  }
 },
 "nbformat": 4,
 "nbformat_minor": 2
}
