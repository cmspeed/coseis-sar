{
 "cells": [
  {
   "cell_type": "code",
   "execution_count": null,
   "metadata": {},
   "outputs": [
    {
     "name": "stdout",
     "output_type": "stream",
     "text": [
      "This is the Open Source version of ISCE.\n",
      "Some of the workflows depend on a separate licensed package.\n",
      "To obtain the licensed package, please make a request for ISCE\n",
      "through the website: https://download.jpl.nasa.gov/ops/request/index.cfm.\n",
      "Alternatively, if you are a member, or can become a member of WinSAR\n",
      "you may be able to obtain access to a version of the licensed sofware at\n",
      "https://winsar.unavco.org/software/isce\n"
     ]
    }
   ],
   "source": [
    "import os\n",
    "import isce\n",
    "import asf_search as asf\n",
    "from iscesys.Component.ProductManager import ProductManager\n",
    "import sys\n",
    "sys.path.append('/u/trappist-r0/colespeed/work/coseis/scripts/')  # Add the directory to the system path\n",
    "import coseis\n",
    "import mask_int_alias_2\n",
    "from osgeo import gdal\n",
    "import importlib"
   ]
  },
  {
   "cell_type": "markdown",
   "metadata": {},
   "source": [
    "### Set working directory"
   ]
  },
  {
   "cell_type": "code",
   "execution_count": 5,
   "metadata": {},
   "outputs": [
    {
     "name": "stdout",
     "output_type": "stream",
     "text": [
      "Current working directory: /u/trappist-r0/colespeed/work/coseis/earthquakes/NorCal_12-05-2024\n"
     ]
    }
   ],
   "source": [
    "# Make base directory (if not already made)\n",
    "base_directory = '/u/trappist-r0/colespeed/work/coseis/earthquakes'\n",
    "os.makedirs(base_directory, exist_ok=True)\n",
    "\n",
    "# Make earthquake directory (if not already made)\n",
    "eq_dir = 'NorCal_12-05-2024'  # Update this to automatically take the USGS title from the metadata\n",
    "eq_dir_path = os.path.join(base_directory, eq_dir)\n",
    "os.makedirs(eq_dir_path, exist_ok=True)\n",
    "\n",
    "# Change to the earthquake directory\n",
    "os.chdir(eq_dir_path)\n",
    "\n",
    "# Verify the current working directory\n",
    "print(\"Current working directory:\", os.getcwd())"
   ]
  },
  {
   "cell_type": "markdown",
   "metadata": {},
   "source": [
    "## SLC SAFE Files"
   ]
  },
  {
   "cell_type": "markdown",
   "metadata": {},
   "source": [
    "# Data Table\n",
    "\n",
    "| Frame | Date Range           | Reference                                              | Secondary                                              |\n",
    "|-------|----------------------|--------------------------------------------------------|--------------------------------------------------------|\n",
    "| 453   | 11/25/2024 - 11/13/2024 | S1A_IW_SLC__1SDV_20241125T141515_20241125T141542_056712_06F594_4B70 | S1A_IW_SLC__1SDV_20241113T141515_20241113T141542_056537_06EE96_5B6B |\n",
    "| 453   | 11/13/2024 - 11/1/2024 | S1A_IW_SLC__1SDV_20241113T141515_20241113T141542_056537_06EE96_5B6B | S1A_IW_SLC__1SDV_20241101T141516_20241101T141543_056362_06E79F_7FC7 |\n",
    "| 458   | 11/25/2024 - 11/13/2024 | S1A_IW_SLC__1SDV_20241125T141540_20241125T141608_056712_06F594_6855 | S1A_IW_SLC__1SDV_20241113T141540_20241113T141608_056537_06EE96_0375 |\n",
    "| 458   | 11/13/2024 - 11/1/2024 | S1A_IW_SLC__1SDV_20241113T141540_20241113T141608_056537_06EE96_0375 | S1A_IW_SLC__1SDV_20241101T141541_20241101T141609_056362_06E79F_9383 |\n",
    "| 463   | 11/25/2024 - 11/13/2024 | S1A_IW_SLC__1SDV_20241125T141605_20241125T141632_056712_06F594_54D1 | S1A_IW_SLC__1SDV_20241113T141606_20241113T141633_056537_06EE96_0743 |\n",
    "| 463   | 11/13/2024 - 11/1/2024 | S1A_IW_SLC__1SDV_20241113T141606_20241113T141633_056537_06EE96_0743 | S1A_IW_SLC__1SDV_20241101T141607_20241101T141634_056362_06E79F_F2AC |\n"
   ]
  },
  {
   "cell_type": "code",
   "execution_count": 6,
   "metadata": {},
   "outputs": [
    {
     "name": "stdout",
     "output_type": "stream",
     "text": [
      "Current working directory: /u/trappist-r0/colespeed/work/coseis/earthquakes/NorCal_12-05-2024/D115\n"
     ]
    }
   ],
   "source": [
    "path_dir = os.path.join(eq_dir_path, 'D115')\n",
    "os.makedirs(path_dir, exist_ok=True)\n",
    "os.chdir(path_dir)\n",
    "print(\"Current working directory:\", os.getcwd())"
   ]
  },
  {
   "cell_type": "code",
   "execution_count": null,
   "metadata": {},
   "outputs": [
    {
     "name": "stdout",
     "output_type": "stream",
     "text": [
      "nohup: ignoring input and appending output to ‘nohup.out’\n"
     ]
    }
   ],
   "source": [
    "import time\n",
    "start_time = time.time()\n",
    "!XLA_PYTHON_CLIENT_MEM_FRACTION=.10 taskset -c 70-134 nohup isce2_topsapp --reference-scenes S1A_IW_SLC__1SDV_20241125T141515_20241125T141542_056712_06F594_4B70 S1A_IW_SLC__1SDV_20241125T141540_20241125T141608_056712_06F594_6855 S1A_IW_SLC__1SDV_20241125T141605_20241125T141632_056712_06F594_54D1 --secondary-scenes S1A_IW_SLC__1SDV_20241113T141515_20241113T141542_056537_06EE96_5B6B S1A_IW_SLC__1SDV_20241113T141540_20241113T141608_056537_06EE96_0375 S1A_IW_SLC__1SDV_20241113T141606_20241113T141633_056537_06EE96_0743 --frame-id -1 --estimate-ionosphere-delay True --esd-coherence-threshold -1 --compute-solid-earth-tide True --goldstein-filter-power 0.5 --output-resolution 30 --unfiltered-coherence True --dense-offsets True \n",
    "\n",
    "end_time = time.time()\n",
    "elapsed_time = end_time - start_time\n",
    "\n",
    "# Print the result\n",
    "print(f\"Script completed in {elapsed_time:.2f} seconds\")  "
   ]
  },
  {
   "cell_type": "code",
   "execution_count": null,
   "metadata": {},
   "outputs": [],
   "source": []
  }
 ],
 "metadata": {
  "kernelspec": {
   "display_name": "topsapp_env",
   "language": "python",
   "name": "python3"
  },
  "language_info": {
   "codemirror_mode": {
    "name": "ipython",
    "version": 3
   },
   "file_extension": ".py",
   "mimetype": "text/x-python",
   "name": "python",
   "nbconvert_exporter": "python",
   "pygments_lexer": "ipython3",
   "version": "3.9.18"
  }
 },
 "nbformat": 4,
 "nbformat_minor": 2
}
